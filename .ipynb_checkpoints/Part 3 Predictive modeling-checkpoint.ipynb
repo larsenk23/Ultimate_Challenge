{
 "cells": [
  {
   "cell_type": "markdown",
   "id": "89123108",
   "metadata": {},
   "source": [
    "# Part 3"
   ]
  },
  {
   "cell_type": "markdown",
   "id": "ef4f3b74",
   "metadata": {},
   "source": [
    "## Predictive modeling"
   ]
  },
  {
   "cell_type": "markdown",
   "id": "7388ec67",
   "metadata": {},
   "source": [
    "#### Table of Content\n",
    "\n",
    "1. [Importing Data](#section_1)<br>\n",
    "2. [Cleaning Data](#section_2)<br>\n",
    "3. [Exploring Data](#section_3)<br>\n",
    "4. [Modeling](#section_4)<br>\n",
    "    a. [Logistic Regession](#section_4a)<br>\n",
    "    b. [Decision Tree Classifier](#section_4b)<br>\n",
    "    c. [Random Forest Classifier](#section_4c)<br>\n",
    "    d. [MultinomialNB](#section_4d)<br>\n",
    "    e. [XGBClassifier](#section_4e) <br> \n",
    "5. [Model Selection](#section_5)<br>\n",
    "6. [Model Insight](#section_6)"
   ]
  },
  {
   "cell_type": "markdown",
   "id": "a4249424",
   "metadata": {},
   "source": [
    "<a id='section_1'></a>\n",
    "### 1. Importing Data"
   ]
  },
  {
   "cell_type": "code",
   "execution_count": 1,
   "id": "562fd2fb",
   "metadata": {},
   "outputs": [],
   "source": [
    "import pandas as pd\n",
    "import json\n",
    "import numpy as np\n",
    "from datetime import datetime\n",
    "import matplotlib.pyplot as plt\n",
    "%matplotlib inline\n",
    "import seaborn as sns\n",
    "import math\n",
    "\n",
    "from sklearn.model_selection import train_test_split\n",
    "from sklearn.model_selection import RandomizedSearchCV\n",
    "from sklearn.metrics import classification_report, confusion_matrix, plot_confusion_matrix\n",
    "from sklearn.linear_model import LogisticRegression\n",
    "from sklearn.tree import DecisionTreeClassifier\n",
    "from sklearn.ensemble import RandomForestClassifier\n",
    "from sklearn.naive_bayes import MultinomialNB\n",
    "from xgboost import XGBClassifier\n",
    "from imblearn.over_sampling import RandomOverSampler\n",
    "from sklearn.metrics import make_scorer\n",
    "from sklearn import preprocessing\n",
    "from sklearn.metrics import accuracy_score, precision_score, recall_score, f1_score\n",
    "\n",
    "from sklearn.preprocessing import MinMaxScaler"
   ]
  },
  {
   "cell_type": "code",
   "execution_count": 2,
   "id": "b268459d",
   "metadata": {},
   "outputs": [],
   "source": [
    "df = pd.read_json('ultimate_data_challenge.json')"
   ]
  },
  {
   "cell_type": "code",
   "execution_count": 3,
   "id": "61df2125",
   "metadata": {},
   "outputs": [
    {
     "data": {
      "text/html": [
       "<div>\n",
       "<style scoped>\n",
       "    .dataframe tbody tr th:only-of-type {\n",
       "        vertical-align: middle;\n",
       "    }\n",
       "\n",
       "    .dataframe tbody tr th {\n",
       "        vertical-align: top;\n",
       "    }\n",
       "\n",
       "    .dataframe thead th {\n",
       "        text-align: right;\n",
       "    }\n",
       "</style>\n",
       "<table border=\"1\" class=\"dataframe\">\n",
       "  <thead>\n",
       "    <tr style=\"text-align: right;\">\n",
       "      <th></th>\n",
       "      <th>city</th>\n",
       "      <th>trips_in_first_30_days</th>\n",
       "      <th>signup_date</th>\n",
       "      <th>avg_rating_of_driver</th>\n",
       "      <th>avg_surge</th>\n",
       "      <th>last_trip_date</th>\n",
       "      <th>phone</th>\n",
       "      <th>surge_pct</th>\n",
       "      <th>ultimate_black_user</th>\n",
       "      <th>weekday_pct</th>\n",
       "      <th>avg_dist</th>\n",
       "      <th>avg_rating_by_driver</th>\n",
       "    </tr>\n",
       "  </thead>\n",
       "  <tbody>\n",
       "    <tr>\n",
       "      <th>0</th>\n",
       "      <td>King's Landing</td>\n",
       "      <td>4</td>\n",
       "      <td>2014-01-25</td>\n",
       "      <td>4.7</td>\n",
       "      <td>1.10</td>\n",
       "      <td>2014-06-17</td>\n",
       "      <td>iPhone</td>\n",
       "      <td>15.4</td>\n",
       "      <td>True</td>\n",
       "      <td>46.2</td>\n",
       "      <td>3.67</td>\n",
       "      <td>5.0</td>\n",
       "    </tr>\n",
       "    <tr>\n",
       "      <th>1</th>\n",
       "      <td>Astapor</td>\n",
       "      <td>0</td>\n",
       "      <td>2014-01-29</td>\n",
       "      <td>5.0</td>\n",
       "      <td>1.00</td>\n",
       "      <td>2014-05-05</td>\n",
       "      <td>Android</td>\n",
       "      <td>0.0</td>\n",
       "      <td>False</td>\n",
       "      <td>50.0</td>\n",
       "      <td>8.26</td>\n",
       "      <td>5.0</td>\n",
       "    </tr>\n",
       "    <tr>\n",
       "      <th>2</th>\n",
       "      <td>Astapor</td>\n",
       "      <td>3</td>\n",
       "      <td>2014-01-06</td>\n",
       "      <td>4.3</td>\n",
       "      <td>1.00</td>\n",
       "      <td>2014-01-07</td>\n",
       "      <td>iPhone</td>\n",
       "      <td>0.0</td>\n",
       "      <td>False</td>\n",
       "      <td>100.0</td>\n",
       "      <td>0.77</td>\n",
       "      <td>5.0</td>\n",
       "    </tr>\n",
       "    <tr>\n",
       "      <th>3</th>\n",
       "      <td>King's Landing</td>\n",
       "      <td>9</td>\n",
       "      <td>2014-01-10</td>\n",
       "      <td>4.6</td>\n",
       "      <td>1.14</td>\n",
       "      <td>2014-06-29</td>\n",
       "      <td>iPhone</td>\n",
       "      <td>20.0</td>\n",
       "      <td>True</td>\n",
       "      <td>80.0</td>\n",
       "      <td>2.36</td>\n",
       "      <td>4.9</td>\n",
       "    </tr>\n",
       "    <tr>\n",
       "      <th>4</th>\n",
       "      <td>Winterfell</td>\n",
       "      <td>14</td>\n",
       "      <td>2014-01-27</td>\n",
       "      <td>4.4</td>\n",
       "      <td>1.19</td>\n",
       "      <td>2014-03-15</td>\n",
       "      <td>Android</td>\n",
       "      <td>11.8</td>\n",
       "      <td>False</td>\n",
       "      <td>82.4</td>\n",
       "      <td>3.13</td>\n",
       "      <td>4.9</td>\n",
       "    </tr>\n",
       "  </tbody>\n",
       "</table>\n",
       "</div>"
      ],
      "text/plain": [
       "             city  trips_in_first_30_days signup_date  avg_rating_of_driver  \\\n",
       "0  King's Landing                       4  2014-01-25                   4.7   \n",
       "1         Astapor                       0  2014-01-29                   5.0   \n",
       "2         Astapor                       3  2014-01-06                   4.3   \n",
       "3  King's Landing                       9  2014-01-10                   4.6   \n",
       "4      Winterfell                      14  2014-01-27                   4.4   \n",
       "\n",
       "   avg_surge last_trip_date    phone  surge_pct  ultimate_black_user  \\\n",
       "0       1.10     2014-06-17   iPhone       15.4                 True   \n",
       "1       1.00     2014-05-05  Android        0.0                False   \n",
       "2       1.00     2014-01-07   iPhone        0.0                False   \n",
       "3       1.14     2014-06-29   iPhone       20.0                 True   \n",
       "4       1.19     2014-03-15  Android       11.8                False   \n",
       "\n",
       "   weekday_pct  avg_dist  avg_rating_by_driver  \n",
       "0         46.2      3.67                   5.0  \n",
       "1         50.0      8.26                   5.0  \n",
       "2        100.0      0.77                   5.0  \n",
       "3         80.0      2.36                   4.9  \n",
       "4         82.4      3.13                   4.9  "
      ]
     },
     "execution_count": 3,
     "metadata": {},
     "output_type": "execute_result"
    }
   ],
   "source": [
    "df.head()"
   ]
  },
  {
   "cell_type": "markdown",
   "id": "04f7b9b5",
   "metadata": {},
   "source": [
    "<a id='section_2'></a>\n",
    "### 2. Cleaning Data\n"
   ]
  },
  {
   "cell_type": "code",
   "execution_count": 4,
   "id": "f738193b",
   "metadata": {},
   "outputs": [
    {
     "name": "stdout",
     "output_type": "stream",
     "text": [
      "<class 'pandas.core.frame.DataFrame'>\n",
      "RangeIndex: 50000 entries, 0 to 49999\n",
      "Data columns (total 12 columns):\n",
      " #   Column                  Non-Null Count  Dtype  \n",
      "---  ------                  --------------  -----  \n",
      " 0   city                    50000 non-null  object \n",
      " 1   trips_in_first_30_days  50000 non-null  int64  \n",
      " 2   signup_date             50000 non-null  object \n",
      " 3   avg_rating_of_driver    41878 non-null  float64\n",
      " 4   avg_surge               50000 non-null  float64\n",
      " 5   last_trip_date          50000 non-null  object \n",
      " 6   phone                   49604 non-null  object \n",
      " 7   surge_pct               50000 non-null  float64\n",
      " 8   ultimate_black_user     50000 non-null  bool   \n",
      " 9   weekday_pct             50000 non-null  float64\n",
      " 10  avg_dist                50000 non-null  float64\n",
      " 11  avg_rating_by_driver    49799 non-null  float64\n",
      "dtypes: bool(1), float64(6), int64(1), object(4)\n",
      "memory usage: 4.2+ MB\n"
     ]
    }
   ],
   "source": [
    "df.info()"
   ]
  },
  {
   "cell_type": "code",
   "execution_count": 5,
   "id": "2b2f2b99",
   "metadata": {},
   "outputs": [
    {
     "data": {
      "text/plain": [
       "city                         0\n",
       "trips_in_first_30_days       0\n",
       "signup_date                  0\n",
       "avg_rating_of_driver      8122\n",
       "avg_surge                    0\n",
       "last_trip_date               0\n",
       "phone                      396\n",
       "surge_pct                    0\n",
       "ultimate_black_user          0\n",
       "weekday_pct                  0\n",
       "avg_dist                     0\n",
       "avg_rating_by_driver       201\n",
       "dtype: int64"
      ]
     },
     "execution_count": 5,
     "metadata": {},
     "output_type": "execute_result"
    }
   ],
   "source": [
    "df.isna().sum()"
   ]
  },
  {
   "cell_type": "code",
   "execution_count": 6,
   "id": "9cdb395f",
   "metadata": {},
   "outputs": [],
   "source": [
    "# Replacing all nan's\n",
    "df['phone'].replace([np.nan], 'Unknown', inplace = True)"
   ]
  },
  {
   "cell_type": "code",
   "execution_count": 7,
   "id": "cca3275f",
   "metadata": {},
   "outputs": [],
   "source": [
    "df['last_trip_date'] = pd.to_datetime(df['last_trip_date'])"
   ]
  },
  {
   "cell_type": "code",
   "execution_count": 8,
   "id": "4766d676",
   "metadata": {},
   "outputs": [
    {
     "data": {
      "text/plain": [
       "Timestamp('2014-07-01 00:00:00')"
      ]
     },
     "execution_count": 8,
     "metadata": {},
     "output_type": "execute_result"
    }
   ],
   "source": [
    "df['last_trip_date'].max()"
   ]
  },
  {
   "cell_type": "markdown",
   "id": "6cf12f63",
   "metadata": {},
   "source": [
    "<div class=\"alert alert-block alert-success\">\n",
    "Since the last trip was on July 1st at midnight, that would make all of June the last 30 days. If a person used the service in the month of June, they will be considered an active customer.\n",
    "</div>"
   ]
  },
  {
   "cell_type": "code",
   "execution_count": 9,
   "id": "0ee1b5d9",
   "metadata": {},
   "outputs": [],
   "source": [
    "# Make the active customer column to make predictions\n",
    "df['active_customer'] = np.nan\n",
    "df['active_customer'] = np.where(df['last_trip_date'] >= '2014-06-01', 1, df['active_customer'])\n",
    "df['active_customer'].replace([np.nan], 0, inplace = True)"
   ]
  },
  {
   "cell_type": "code",
   "execution_count": 10,
   "id": "493d877f",
   "metadata": {},
   "outputs": [
    {
     "data": {
      "text/html": [
       "<div>\n",
       "<style scoped>\n",
       "    .dataframe tbody tr th:only-of-type {\n",
       "        vertical-align: middle;\n",
       "    }\n",
       "\n",
       "    .dataframe tbody tr th {\n",
       "        vertical-align: top;\n",
       "    }\n",
       "\n",
       "    .dataframe thead th {\n",
       "        text-align: right;\n",
       "    }\n",
       "</style>\n",
       "<table border=\"1\" class=\"dataframe\">\n",
       "  <thead>\n",
       "    <tr style=\"text-align: right;\">\n",
       "      <th></th>\n",
       "      <th>city</th>\n",
       "      <th>trips_in_first_30_days</th>\n",
       "      <th>signup_date</th>\n",
       "      <th>avg_rating_of_driver</th>\n",
       "      <th>avg_surge</th>\n",
       "      <th>last_trip_date</th>\n",
       "      <th>phone</th>\n",
       "      <th>surge_pct</th>\n",
       "      <th>ultimate_black_user</th>\n",
       "      <th>weekday_pct</th>\n",
       "      <th>avg_dist</th>\n",
       "      <th>avg_rating_by_driver</th>\n",
       "      <th>active_customer</th>\n",
       "    </tr>\n",
       "  </thead>\n",
       "  <tbody>\n",
       "    <tr>\n",
       "      <th>0</th>\n",
       "      <td>King's Landing</td>\n",
       "      <td>4</td>\n",
       "      <td>2014-01-25</td>\n",
       "      <td>4.7</td>\n",
       "      <td>1.10</td>\n",
       "      <td>2014-06-17</td>\n",
       "      <td>iPhone</td>\n",
       "      <td>15.4</td>\n",
       "      <td>True</td>\n",
       "      <td>46.2</td>\n",
       "      <td>3.67</td>\n",
       "      <td>5.0</td>\n",
       "      <td>1.0</td>\n",
       "    </tr>\n",
       "    <tr>\n",
       "      <th>1</th>\n",
       "      <td>Astapor</td>\n",
       "      <td>0</td>\n",
       "      <td>2014-01-29</td>\n",
       "      <td>5.0</td>\n",
       "      <td>1.00</td>\n",
       "      <td>2014-05-05</td>\n",
       "      <td>Android</td>\n",
       "      <td>0.0</td>\n",
       "      <td>False</td>\n",
       "      <td>50.0</td>\n",
       "      <td>8.26</td>\n",
       "      <td>5.0</td>\n",
       "      <td>0.0</td>\n",
       "    </tr>\n",
       "    <tr>\n",
       "      <th>2</th>\n",
       "      <td>Astapor</td>\n",
       "      <td>3</td>\n",
       "      <td>2014-01-06</td>\n",
       "      <td>4.3</td>\n",
       "      <td>1.00</td>\n",
       "      <td>2014-01-07</td>\n",
       "      <td>iPhone</td>\n",
       "      <td>0.0</td>\n",
       "      <td>False</td>\n",
       "      <td>100.0</td>\n",
       "      <td>0.77</td>\n",
       "      <td>5.0</td>\n",
       "      <td>0.0</td>\n",
       "    </tr>\n",
       "    <tr>\n",
       "      <th>3</th>\n",
       "      <td>King's Landing</td>\n",
       "      <td>9</td>\n",
       "      <td>2014-01-10</td>\n",
       "      <td>4.6</td>\n",
       "      <td>1.14</td>\n",
       "      <td>2014-06-29</td>\n",
       "      <td>iPhone</td>\n",
       "      <td>20.0</td>\n",
       "      <td>True</td>\n",
       "      <td>80.0</td>\n",
       "      <td>2.36</td>\n",
       "      <td>4.9</td>\n",
       "      <td>1.0</td>\n",
       "    </tr>\n",
       "    <tr>\n",
       "      <th>4</th>\n",
       "      <td>Winterfell</td>\n",
       "      <td>14</td>\n",
       "      <td>2014-01-27</td>\n",
       "      <td>4.4</td>\n",
       "      <td>1.19</td>\n",
       "      <td>2014-03-15</td>\n",
       "      <td>Android</td>\n",
       "      <td>11.8</td>\n",
       "      <td>False</td>\n",
       "      <td>82.4</td>\n",
       "      <td>3.13</td>\n",
       "      <td>4.9</td>\n",
       "      <td>0.0</td>\n",
       "    </tr>\n",
       "  </tbody>\n",
       "</table>\n",
       "</div>"
      ],
      "text/plain": [
       "             city  trips_in_first_30_days signup_date  avg_rating_of_driver  \\\n",
       "0  King's Landing                       4  2014-01-25                   4.7   \n",
       "1         Astapor                       0  2014-01-29                   5.0   \n",
       "2         Astapor                       3  2014-01-06                   4.3   \n",
       "3  King's Landing                       9  2014-01-10                   4.6   \n",
       "4      Winterfell                      14  2014-01-27                   4.4   \n",
       "\n",
       "   avg_surge last_trip_date    phone  surge_pct  ultimate_black_user  \\\n",
       "0       1.10     2014-06-17   iPhone       15.4                 True   \n",
       "1       1.00     2014-05-05  Android        0.0                False   \n",
       "2       1.00     2014-01-07   iPhone        0.0                False   \n",
       "3       1.14     2014-06-29   iPhone       20.0                 True   \n",
       "4       1.19     2014-03-15  Android       11.8                False   \n",
       "\n",
       "   weekday_pct  avg_dist  avg_rating_by_driver  active_customer  \n",
       "0         46.2      3.67                   5.0              1.0  \n",
       "1         50.0      8.26                   5.0              0.0  \n",
       "2        100.0      0.77                   5.0              0.0  \n",
       "3         80.0      2.36                   4.9              1.0  \n",
       "4         82.4      3.13                   4.9              0.0  "
      ]
     },
     "execution_count": 10,
     "metadata": {},
     "output_type": "execute_result"
    }
   ],
   "source": [
    "df.head()"
   ]
  },
  {
   "cell_type": "markdown",
   "id": "d703eae6",
   "metadata": {},
   "source": [
    "<a id='section_3'></a>\n",
    "### 3. Exploring Data\n"
   ]
  },
  {
   "cell_type": "code",
   "execution_count": 11,
   "id": "66992292",
   "metadata": {},
   "outputs": [
    {
     "data": {
      "image/png": "[encoded data removed]",
      "text/plain": [
       "<Figure size 864x720 with 2 Axes>"
      ]
     },
     "metadata": {
      "needs_background": "light"
     },
     "output_type": "display_data"
    }
   ],
   "source": [
    "plt.figure(figsize=(12,10))\n",
    "p=sns.heatmap(df.corr(), annot=True,cmap ='Blues')\n",
    "plt.title('Correlation between various features');"
   ]
  },
  {
   "cell_type": "markdown",
   "id": "caf1e594",
   "metadata": {},
   "source": [
    "<div class=\"alert alert-block alert-success\">\n",
    "Based on the correlation map, three numerical features have stronger correlations: trips in the frist 30 days, surge percentage, and ultimate blak user.\n",
    "    \n",
    "Lets explore those features further. \n",
    "</div>"
   ]
  },
  {
   "cell_type": "code",
   "execution_count": 12,
   "id": "2132504b",
   "metadata": {},
   "outputs": [
    {
     "data": {
      "image/png": "[encoded data removed]",
      "text/plain": [
       "<Figure size 864x576 with 1 Axes>"
      ]
     },
     "metadata": {
      "needs_background": "light"
     },
     "output_type": "display_data"
    }
   ],
   "source": [
    "plt.figure(figsize = [12, 8])\n",
    "\n",
    "sns.countplot(data = df, x = 'active_customer')\n",
    "plt.title('Count of Active Customers')\n",
    "plt.xlabel('Active Customers')\n",
    "plt.ylabel('Count')\n",
    "plt.show();"
   ]
  },
  {
   "cell_type": "code",
   "execution_count": 13,
   "id": "08f138fc",
   "metadata": {},
   "outputs": [
    {
     "data": {
      "text/plain": [
       "0.37608"
      ]
     },
     "execution_count": 13,
     "metadata": {},
     "output_type": "execute_result"
    }
   ],
   "source": [
    "df['active_customer'].sum()/ df['active_customer'].count()"
   ]
  },
  {
   "cell_type": "markdown",
   "id": "7afd6923",
   "metadata": {},
   "source": [
    "<div class=\"alert alert-block alert-success\">\n",
    "37% of users are active customers still after 6 months. \n",
    "</div>"
   ]
  },
  {
   "cell_type": "code",
   "execution_count": 14,
   "id": "586ad617",
   "metadata": {},
   "outputs": [
    {
     "data": {
      "image/png": "[encoded data removed]",
      "text/plain": [
       "<Figure size 720x576 with 1 Axes>"
      ]
     },
     "metadata": {
      "needs_background": "light"
     },
     "output_type": "display_data"
    }
   ],
   "source": [
    "plt.figure(figsize = [10, 8]) \n",
    "sns.violinplot(data = df, x = 'active_customer', y = 'trips_in_first_30_days')\n",
    "plt.title('Active Customers Trips In the first 30 Days')\n",
    "plt.xlabel('Active Customers')\n",
    "plt.ylabel('Trips In the first 30 Days');"
   ]
  },
  {
   "cell_type": "code",
   "execution_count": 15,
   "id": "d2a41cf8",
   "metadata": {},
   "outputs": [],
   "source": [
    "df_0 = df[df['active_customer'] == 0]\n",
    "df_1 = df[df['active_customer'] == 1]"
   ]
  },
  {
   "cell_type": "code",
   "execution_count": 16,
   "id": "bdd32e2c",
   "metadata": {},
   "outputs": [
    {
     "data": {
      "text/plain": [
       "count    31196.000000\n",
       "mean         1.658482\n",
       "std          2.654222\n",
       "min          0.000000\n",
       "25%          0.000000\n",
       "50%          1.000000\n",
       "75%          2.000000\n",
       "max         73.000000\n",
       "Name: trips_in_first_30_days, dtype: float64"
      ]
     },
     "execution_count": 16,
     "metadata": {},
     "output_type": "execute_result"
    }
   ],
   "source": [
    "df_0['trips_in_first_30_days'].describe()"
   ]
  },
  {
   "cell_type": "code",
   "execution_count": 17,
   "id": "2fbebe68",
   "metadata": {},
   "outputs": [
    {
     "data": {
      "text/plain": [
       "count    18804.000000\n",
       "mean         3.306318\n",
       "std          4.986743\n",
       "min          0.000000\n",
       "25%          0.000000\n",
       "50%          2.000000\n",
       "75%          4.000000\n",
       "max        125.000000\n",
       "Name: trips_in_first_30_days, dtype: float64"
      ]
     },
     "execution_count": 17,
     "metadata": {},
     "output_type": "execute_result"
    }
   ],
   "source": [
    "df_1['trips_in_first_30_days'].describe()"
   ]
  },
  {
   "cell_type": "markdown",
   "id": "fbde7772",
   "metadata": {},
   "source": [
    "<div class=\"alert alert-block alert-success\">\n",
    "It seems that current active users used the service more frequently than non-active customers in the first month that they signed up. The mean of active customers is about 1.65 trips more per the first month than non active customers \n",
    "</div>"
   ]
  },
  {
   "cell_type": "code",
   "execution_count": 18,
   "id": "55efbbbb",
   "metadata": {},
   "outputs": [
    {
     "data": {
      "image/png": "[encoded data removed]",
      "text/plain": [
       "<Figure size 720x576 with 1 Axes>"
      ]
     },
     "metadata": {
      "needs_background": "light"
     },
     "output_type": "display_data"
    }
   ],
   "source": [
    "plt.figure(figsize = [10, 8]) \n",
    "sns.violinplot(data = df, x = 'active_customer', y = 'surge_pct')\n",
    "plt.title('Active Customers Surge Percentage')\n",
    "plt.xlabel('Active Customers')\n",
    "plt.ylabel('Surge Percentage');"
   ]
  },
  {
   "cell_type": "code",
   "execution_count": 19,
   "id": "484547e4",
   "metadata": {},
   "outputs": [
    {
     "data": {
      "text/plain": [
       "count    50000.000000\n",
       "mean         8.849536\n",
       "std         19.958811\n",
       "min          0.000000\n",
       "25%          0.000000\n",
       "50%          0.000000\n",
       "75%          8.600000\n",
       "max        100.000000\n",
       "Name: surge_pct, dtype: float64"
      ]
     },
     "execution_count": 19,
     "metadata": {},
     "output_type": "execute_result"
    }
   ],
   "source": [
    "df['surge_pct'].describe()"
   ]
  },
  {
   "cell_type": "code",
   "execution_count": 20,
   "id": "f9421878",
   "metadata": {},
   "outputs": [
    {
     "data": {
      "text/plain": [
       "count    31196.000000\n",
       "mean         8.666739\n",
       "std         22.179139\n",
       "min          0.000000\n",
       "25%          0.000000\n",
       "50%          0.000000\n",
       "75%          0.000000\n",
       "max        100.000000\n",
       "Name: surge_pct, dtype: float64"
      ]
     },
     "execution_count": 20,
     "metadata": {},
     "output_type": "execute_result"
    }
   ],
   "source": [
    "df_0['surge_pct'].describe()"
   ]
  },
  {
   "cell_type": "code",
   "execution_count": 21,
   "id": "ad670322",
   "metadata": {},
   "outputs": [
    {
     "data": {
      "text/plain": [
       "count    18804.000000\n",
       "mean         9.152797\n",
       "std         15.588704\n",
       "min          0.000000\n",
       "25%          0.000000\n",
       "50%          0.000000\n",
       "75%         13.300000\n",
       "max        100.000000\n",
       "Name: surge_pct, dtype: float64"
      ]
     },
     "execution_count": 21,
     "metadata": {},
     "output_type": "execute_result"
    }
   ],
   "source": [
    "df_1['surge_pct'].describe()"
   ]
  },
  {
   "cell_type": "markdown",
   "id": "ae68501e",
   "metadata": {},
   "source": [
    "<div class=\"alert alert-block alert-success\">\n",
    "The distribution is smaller in non active customers. The mean is slightly higher in the active users, which makes me think active users are ok paying for the service, while non active users are less likely to take trips with high surge charges. \n",
    "</div>"
   ]
  },
  {
   "cell_type": "code",
   "execution_count": 22,
   "id": "bb297add",
   "metadata": {},
   "outputs": [
    {
     "data": {
      "image/png": "[encoded data removed]",
      "text/plain": [
       "<Figure size 720x576 with 1 Axes>"
      ]
     },
     "metadata": {
      "needs_background": "light"
     },
     "output_type": "display_data"
    }
   ],
   "source": [
    "plt.figure(figsize = [10, 8]) \n",
    "sns.violinplot(data = df, x = 'active_customer', y = 'avg_rating_by_driver')\n",
    "plt.title('Active Customers Average Rating By Driver')\n",
    "plt.xlabel('Active Customers')\n",
    "plt.ylabel('Average Rating By Driver');"
   ]
  },
  {
   "cell_type": "markdown",
   "id": "1bd17008",
   "metadata": {},
   "source": [
    "<div class=\"alert alert-block alert-success\">\n",
    "Non-active customers are more likely to have a rating of a 5 by the driver. This is probabiliy because they have taken less trips. The more trips they take, the more likely that number would be to drop slightly.  \n",
    "</div>"
   ]
  },
  {
   "cell_type": "markdown",
   "id": "851f5534",
   "metadata": {},
   "source": [
    "#### Now lets look at Catergorical Data"
   ]
  },
  {
   "cell_type": "code",
   "execution_count": 23,
   "id": "9d50aaa6",
   "metadata": {},
   "outputs": [],
   "source": [
    "user_type = df.groupby(['active_customer', 'ultimate_black_user']).size()\n",
    "user_type = user_type.reset_index(name='count')\n",
    "user_type = user_type.sort_values('active_customer')\n",
    "user_type = user_type.pivot(index = 'active_customer', columns = 'ultimate_black_user', values = 'count')"
   ]
  },
  {
   "cell_type": "code",
   "execution_count": 24,
   "id": "00d8588d",
   "metadata": {
    "scrolled": false
   },
   "outputs": [
    {
     "data": {
      "image/png": "[encoded data removed]",
      "text/plain": [
       "<Figure size 720x576 with 2 Axes>"
      ]
     },
     "metadata": {
      "needs_background": "light"
     },
     "output_type": "display_data"
    }
   ],
   "source": [
    "plt.figure(figsize = [10, 8]) \n",
    "sns.heatmap(user_type, annot = True, fmt = 'd', vmax=10000)\n",
    "plt.title('Active Customer vs. Ultimate Black User')\n",
    "plt.ylabel('Active Customer')\n",
    "plt.xlabel('Ultimate Black User');"
   ]
  },
  {
   "cell_type": "markdown",
   "id": "5e60cd73",
   "metadata": {},
   "source": [
    "<div class=\"alert alert-block alert-success\">\n",
    "It is clear that a large number of non-active customers are also not Ultimate Black users.\n",
    "</div>"
   ]
  },
  {
   "cell_type": "code",
   "execution_count": 25,
   "id": "1f1b1d65",
   "metadata": {},
   "outputs": [
    {
     "data": {
      "text/plain": [
       "Winterfell        23336\n",
       "Astapor           16534\n",
       "King's Landing    10130\n",
       "Name: city, dtype: int64"
      ]
     },
     "execution_count": 25,
     "metadata": {},
     "output_type": "execute_result"
    }
   ],
   "source": [
    "df['city'].value_counts()"
   ]
  },
  {
   "cell_type": "code",
   "execution_count": 26,
   "id": "66541626",
   "metadata": {},
   "outputs": [
    {
     "data": {
      "image/png": "[encoded data removed]",
      "text/plain": [
       "<Figure size 576x576 with 1 Axes>"
      ]
     },
     "metadata": {
      "needs_background": "light"
     },
     "output_type": "display_data"
    }
   ],
   "source": [
    "plt.figure(figsize = [8, 8])\n",
    "\n",
    "sns.countplot(data = df, x = 'city', hue = 'active_customer', palette = 'Blues')\n",
    "plt.title('Active Customers by City')\n",
    "plt.xlabel('Cities')\n",
    "plt.ylabel('Count')\n",
    "plt.show();"
   ]
  },
  {
   "cell_type": "markdown",
   "id": "073888f4",
   "metadata": {},
   "source": [
    "<div class=\"alert alert-block alert-success\">\n",
    "King's Landing has the largerst percent of active uses in the city. It is also the only city with more active customers than non-active customers.\n",
    "</div>"
   ]
  },
  {
   "cell_type": "code",
   "execution_count": 27,
   "id": "2c16c302",
   "metadata": {},
   "outputs": [
    {
     "data": {
      "text/plain": [
       "iPhone     34582\n",
       "Android    15022\n",
       "Unknown      396\n",
       "Name: phone, dtype: int64"
      ]
     },
     "execution_count": 27,
     "metadata": {},
     "output_type": "execute_result"
    }
   ],
   "source": [
    "df['phone'].value_counts()"
   ]
  },
  {
   "cell_type": "code",
   "execution_count": 28,
   "id": "8a1f7f08",
   "metadata": {},
   "outputs": [
    {
     "data": {
      "image/png": "[encoded data removed]",
      "text/plain": [
       "<Figure size 576x576 with 1 Axes>"
      ]
     },
     "metadata": {
      "needs_background": "light"
     },
     "output_type": "display_data"
    }
   ],
   "source": [
    "plt.figure(figsize = [8, 8])\n",
    "\n",
    "sns.countplot(data = df, x = 'phone', hue = 'active_customer', palette = 'Blues')\n",
    "plt.title('Active Customers by Phone Type')\n",
    "plt.xlabel('Phone Type')\n",
    "plt.ylabel('Count')\n",
    "plt.show();"
   ]
  },
  {
   "cell_type": "markdown",
   "id": "5b250932",
   "metadata": {},
   "source": [
    "<div class=\"alert alert-block alert-success\">\n",
    "While every phone type has more non-active customers than active customers, but a larger percent of iPhone users are still active customers.  \n",
    "</div>"
   ]
  },
  {
   "cell_type": "markdown",
   "id": "5d2a84b3",
   "metadata": {},
   "source": [
    "<a id='section_4'></a>\n",
    "### 4. Modeling\n"
   ]
  },
  {
   "cell_type": "code",
   "execution_count": 29,
   "id": "ba65bfe3",
   "metadata": {},
   "outputs": [],
   "source": [
    "df = df.drop(['last_trip_date'], axis = 1)"
   ]
  },
  {
   "cell_type": "code",
   "execution_count": 30,
   "id": "90dfe598",
   "metadata": {},
   "outputs": [],
   "source": [
    "df['ultimate_black_user'].replace(True, 1, inplace = True)\n",
    "df['ultimate_black_user'].replace(False, 0, inplace = True)\n",
    "df['avg_rating_of_driver'].replace([np.nan], 'Unknown', inplace = True)\n",
    "df['avg_rating_by_driver'].replace([np.nan], 'Unknown', inplace = True)"
   ]
  },
  {
   "cell_type": "code",
   "execution_count": 31,
   "id": "606d3bed",
   "metadata": {},
   "outputs": [
    {
     "name": "stdout",
     "output_type": "stream",
     "text": [
      "<class 'pandas.core.frame.DataFrame'>\n",
      "RangeIndex: 50000 entries, 0 to 49999\n",
      "Data columns (total 12 columns):\n",
      " #   Column                  Non-Null Count  Dtype  \n",
      "---  ------                  --------------  -----  \n",
      " 0   city                    50000 non-null  object \n",
      " 1   trips_in_first_30_days  50000 non-null  int64  \n",
      " 2   signup_date             50000 non-null  object \n",
      " 3   avg_rating_of_driver    50000 non-null  object \n",
      " 4   avg_surge               50000 non-null  float64\n",
      " 5   phone                   50000 non-null  object \n",
      " 6   surge_pct               50000 non-null  float64\n",
      " 7   ultimate_black_user     50000 non-null  int64  \n",
      " 8   weekday_pct             50000 non-null  float64\n",
      " 9   avg_dist                50000 non-null  float64\n",
      " 10  avg_rating_by_driver    50000 non-null  object \n",
      " 11  active_customer         50000 non-null  float64\n",
      "dtypes: float64(5), int64(2), object(5)\n",
      "memory usage: 4.6+ MB\n"
     ]
    }
   ],
   "source": [
    "df.info()"
   ]
  },
  {
   "cell_type": "code",
   "execution_count": 32,
   "id": "e3da085f",
   "metadata": {},
   "outputs": [],
   "source": [
    "catergorical_features = ['city', 'signup_date', 'phone', 'avg_rating_of_driver', 'avg_rating_by_driver']"
   ]
  },
  {
   "cell_type": "code",
   "execution_count": 33,
   "id": "f11ca661",
   "metadata": {},
   "outputs": [
    {
     "name": "stdout",
     "output_type": "stream",
     "text": [
      "for feature city: label-encoding was done succesfully\n",
      "for feature signup_date: label-encoding was done succesfully\n",
      "for feature phone: label-encoding was done succesfully\n",
      "for feature avg_rating_of_driver: label-encoding was done succesfully\n",
      "for feature avg_rating_by_driver: label-encoding was done succesfully\n"
     ]
    }
   ],
   "source": [
    "#Creating labels for catergorical features\n",
    "for feature in catergorical_features:\n",
    "    label_encoder = preprocessing.LabelEncoder()\n",
    "    label_encoder.fit(list(df[feature].values.astype('str')))\n",
    "    df[feature] = label_encoder.transform(list(df[feature].values.astype('str'))) \n",
    "    print(\"for feature {0}: label-encoding was done succesfully\".format(feature))"
   ]
  },
  {
   "cell_type": "code",
   "execution_count": 34,
   "id": "701fdfc9",
   "metadata": {},
   "outputs": [],
   "source": [
    "X = df.drop(columns='active_customer', axis = 1)\n",
    "y = df['active_customer']\n",
    "\n",
    "cols = X.columns\n",
    "\n",
    "scaler = MinMaxScaler()\n",
    "scaler.fit(X)\n",
    "X = scaler.fit_transform(X)"
   ]
  },
  {
   "cell_type": "code",
   "execution_count": 35,
   "id": "99b7d20a",
   "metadata": {},
   "outputs": [],
   "source": [
    "oversample = RandomOverSampler(sampling_strategy='minority')\n",
    "X_over, y_over = oversample.fit_resample(X, y)"
   ]
  },
  {
   "cell_type": "code",
   "execution_count": 36,
   "id": "6d63b21c",
   "metadata": {},
   "outputs": [],
   "source": [
    "X_train, X_test, y_train, y_test = train_test_split(X_over, y_over, test_size=0.3, random_state=47)"
   ]
  },
  {
   "cell_type": "markdown",
   "id": "064d6cd3",
   "metadata": {},
   "source": [
    "<a id='section_4a'></a>\n",
    "### 4a. Logistic Regession\n"
   ]
  },
  {
   "cell_type": "code",
   "execution_count": 37,
   "id": "1172a55f",
   "metadata": {},
   "outputs": [],
   "source": [
    "model = LogisticRegression()\n",
    "\n",
    "#Hyperparameter tuning\n",
    "parameters = {'class_weight': ['balanced', None],\n",
    "              'penalty' : ['l1', 'l2', 'none'],\n",
    "              'C': np.arange(0.5, 20.0, 0.5),\n",
    "              'fit_intercept': [True, False],\n",
    "             'multi_class': ['auto','ovr','multinomial']}"
   ]
  },
  {
   "cell_type": "code",
   "execution_count": 38,
   "id": "30741d35",
   "metadata": {},
   "outputs": [
    {
     "name": "stdout",
     "output_type": "stream",
     "text": [
      " Results from Random Search \n",
      "\n",
      " The best estimator across ALL searched params:\n",
      " LogisticRegression(C=12.0, fit_intercept=False, multi_class='ovr',\n",
      "                   penalty='none')\n"
     ]
    },
    {
     "name": "stderr",
     "output_type": "stream",
     "text": [
      "/Users/kasey.larsen/opt/anaconda3/lib/python3.8/site-packages/sklearn/model_selection/_search.py:918: UserWarning: One or more of the test scores are non-finite: [0.64972287 0.64981446 0.64976866 0.64967708        nan        nan\n",
      " 0.64908176 0.64976866 0.64967708        nan]\n",
      "  warnings.warn(\n",
      "/Users/kasey.larsen/opt/anaconda3/lib/python3.8/site-packages/sklearn/linear_model/_logistic.py:1322: UserWarning: Setting penalty='none' will ignore the C and l1_ratio parameters\n",
      "  warnings.warn(\n"
     ]
    }
   ],
   "source": [
    "lg_random = RandomizedSearchCV(estimator = model, param_distributions = parameters,\n",
    "                               verbose = False, n_iter = 10, cv = 5, random_state=42, n_jobs = -1)\n",
    "lg_random.fit(X_train, y_train)\n",
    "\n",
    "print(\" Results from Random Search \" )\n",
    "print(\"\\n The best estimator across ALL searched params:\\n\", lg_random.best_estimator_)"
   ]
  },
  {
   "cell_type": "code",
   "execution_count": 39,
   "id": "5de3a405",
   "metadata": {},
   "outputs": [
    {
     "name": "stdout",
     "output_type": "stream",
     "text": [
      "Confusion matrix: \n",
      " [[6096 3198]\n",
      " [3359 6065]]\n",
      "Classification report: \n",
      "               precision    recall  f1-score   support\n",
      "\n",
      "         0.0       0.64      0.66      0.65      9294\n",
      "         1.0       0.65      0.64      0.65      9424\n",
      "\n",
      "    accuracy                           0.65     18718\n",
      "   macro avg       0.65      0.65      0.65     18718\n",
      "weighted avg       0.65      0.65      0.65     18718\n",
      "\n"
     ]
    }
   ],
   "source": [
    "y_pred = lg_random.predict(X_test)\n",
    "print('Confusion matrix: \\n', confusion_matrix(y_test, y_pred))\n",
    "print('Classification report: \\n', classification_report(y_test, y_pred))"
   ]
  },
  {
   "cell_type": "code",
   "execution_count": 40,
   "id": "b87259c5",
   "metadata": {},
   "outputs": [
    {
     "data": {
      "text/plain": [
       "<sklearn.metrics._plot.confusion_matrix.ConfusionMatrixDisplay at 0x7fb7a7874fd0>"
      ]
     },
     "execution_count": 40,
     "metadata": {},
     "output_type": "execute_result"
    },
    {
     "data": {
      "image/png": "[encoded data removed]",
      "text/plain": [
       "<Figure size 432x288 with 2 Axes>"
      ]
     },
     "metadata": {
      "needs_background": "light"
     },
     "output_type": "display_data"
    }
   ],
   "source": [
    "plot_confusion_matrix(lg_random, X_test, y_test,xticks_rotation='vertical')"
   ]
  },
  {
   "cell_type": "code",
   "execution_count": 41,
   "id": "a340cd97",
   "metadata": {},
   "outputs": [],
   "source": [
    "lg_acc_score = accuracy_score(y_test, y_pred)\n",
    "lg_pre_score = precision_score(y_test, y_pred)\n",
    "lg_rec_score = recall_score(y_test, y_pred)\n",
    "lg_f1_score = f1_score(y_test, y_pred)"
   ]
  },
  {
   "cell_type": "markdown",
   "id": "9122529b",
   "metadata": {},
   "source": [
    "<a id='section_4b'></a>\n",
    "### 4b. Decision Tree Classifier\n"
   ]
  },
  {
   "cell_type": "code",
   "execution_count": 42,
   "id": "fa43f6a9",
   "metadata": {},
   "outputs": [],
   "source": [
    "model = DecisionTreeClassifier()\n",
    "\n",
    "#Hyperparameter tuning\n",
    "parameters = {'criterion': ['gini', 'entropy'],\n",
    "              'splitter': ['best', 'random'],\n",
    "               'max_depth': [3,4,5,10,15,20,25,50,75,100,125,150,200, None],\n",
    "               'min_samples_split': [3,10,50,100,150,200,250,300,350,400,450,500,550,600,650,700],\n",
    "               'min_samples_leaf': [1,2,3,4,5,10,20,25, 30, 50, 75, 100],\n",
    "               'max_features': ['auto', 'sqrt', 'log2'],\n",
    "               'max_leaf_nodes': [3,4,5,10,15,20,25,50,75,100,125,150,200, None]}"
   ]
  },
  {
   "cell_type": "code",
   "execution_count": 43,
   "id": "ae421372",
   "metadata": {},
   "outputs": [
    {
     "name": "stdout",
     "output_type": "stream",
     "text": [
      " Results from Random Search \n",
      "\n",
      " The best estimator across ALL searched params:\n",
      " DecisionTreeClassifier(max_depth=50, max_features='sqrt', max_leaf_nodes=100,\n",
      "                       min_samples_leaf=25, min_samples_split=100)\n"
     ]
    }
   ],
   "source": [
    "dt_random = RandomizedSearchCV(estimator = model, param_distributions = parameters, n_iter = 10, cv = 5, \n",
    "                               random_state=42, n_jobs = -1)\n",
    "dt_random.fit(X_train, y_train)\n",
    "\n",
    "print(\" Results from Random Search \" )\n",
    "print(\"\\n The best estimator across ALL searched params:\\n\", dt_random.best_estimator_)"
   ]
  },
  {
   "cell_type": "code",
   "execution_count": 44,
   "id": "8edf70eb",
   "metadata": {},
   "outputs": [
    {
     "name": "stdout",
     "output_type": "stream",
     "text": [
      "Confusion matrix: \n",
      " [[7312 1982]\n",
      " [2767 6657]]\n",
      "Classification report: \n",
      "               precision    recall  f1-score   support\n",
      "\n",
      "         0.0       0.73      0.79      0.75      9294\n",
      "         1.0       0.77      0.71      0.74      9424\n",
      "\n",
      "    accuracy                           0.75     18718\n",
      "   macro avg       0.75      0.75      0.75     18718\n",
      "weighted avg       0.75      0.75      0.75     18718\n",
      "\n"
     ]
    }
   ],
   "source": [
    "y_pred = dt_random.predict(X_test)\n",
    "print('Confusion matrix: \\n', confusion_matrix(y_test, y_pred))\n",
    "print('Classification report: \\n', classification_report(y_test, y_pred))"
   ]
  },
  {
   "cell_type": "code",
   "execution_count": 45,
   "id": "19d16028",
   "metadata": {},
   "outputs": [
    {
     "data": {
      "text/plain": [
       "<sklearn.metrics._plot.confusion_matrix.ConfusionMatrixDisplay at 0x7fb7c67f3040>"
      ]
     },
     "execution_count": 45,
     "metadata": {},
     "output_type": "execute_result"
    },
    {
     "data": {
      "image/png": "[encoded data removed]",
      "text/plain": [
       "<Figure size 432x288 with 2 Axes>"
      ]
     },
     "metadata": {
      "needs_background": "light"
     },
     "output_type": "display_data"
    }
   ],
   "source": [
    "plot_confusion_matrix(dt_random, X_test, y_test,xticks_rotation='vertical')"
   ]
  },
  {
   "cell_type": "code",
   "execution_count": 46,
   "id": "1879e213",
   "metadata": {},
   "outputs": [],
   "source": [
    "dt_acc_score = accuracy_score(y_test, y_pred)\n",
    "dt_pre_score = precision_score(y_test, y_pred)\n",
    "dt_rec_score = recall_score(y_test, y_pred)\n",
    "dt_f1_score = f1_score(y_test, y_pred)"
   ]
  },
  {
   "cell_type": "markdown",
   "id": "d4f25410",
   "metadata": {},
   "source": [
    "<a id='section_4c'></a>\n",
    "### 4c. Random Forest Classifier\n"
   ]
  },
  {
   "cell_type": "code",
   "execution_count": 47,
   "id": "e9e060b5",
   "metadata": {},
   "outputs": [],
   "source": [
    "model = RandomForestClassifier()\n",
    "\n",
    "#Hyperparameter tuning\n",
    "parameters = {'n_estimators': [5,6,7,8,9,10,15,20,25,30,35,40,45,50,75,100,200],\n",
    "              'criterion': ['gini', 'entropy'],\n",
    "               'max_features': ['auto', 'sqrt', 'log2'],\n",
    "               'max_depth': [3,4,5,10,15,20,25,50,75,100,125,150,200, None],\n",
    "               'min_samples_split': [3,10,50,100,150,200,250,300,350,400,450,500,550,600,650,700],\n",
    "               'min_samples_leaf': [1,2,3,4,5,10,20,25, 30, 50, 75, 100],\n",
    "               'min_weight_fraction_leaf': [0.01, 0.1, 0.25, 0.001, 0.5, 0.75, 0.9],\n",
    "               'bootstrap': [True, False]}"
   ]
  },
  {
   "cell_type": "code",
   "execution_count": 48,
   "id": "2f5fb254",
   "metadata": {},
   "outputs": [
    {
     "name": "stderr",
     "output_type": "stream",
     "text": [
      "/Users/kasey.larsen/opt/anaconda3/lib/python3.8/site-packages/sklearn/model_selection/_search.py:918: UserWarning: One or more of the test scores are non-finite: [       nan 0.75605607        nan        nan 0.75676593        nan\n",
      " 0.5014883         nan        nan 0.71415483]\n",
      "  warnings.warn(\n"
     ]
    },
    {
     "name": "stdout",
     "output_type": "stream",
     "text": [
      " Results from Random Search \n",
      "\n",
      " The best estimator across ALL searched params:\n",
      " RandomForestClassifier(bootstrap=False, max_depth=25, max_features='sqrt',\n",
      "                       min_samples_leaf=2, min_samples_split=400,\n",
      "                       min_weight_fraction_leaf=0.01, n_estimators=40)\n"
     ]
    }
   ],
   "source": [
    "rf_random = RandomizedSearchCV(estimator = model, param_distributions = parameters, n_iter = 10, cv = 5, \n",
    "                               verbose = False, random_state=42, n_jobs = -1)\n",
    "rf_random.fit(X_train, y_train)\n",
    "\n",
    "print(\" Results from Random Search \" )\n",
    "print(\"\\n The best estimator across ALL searched params:\\n\", rf_random.best_estimator_)"
   ]
  },
  {
   "cell_type": "code",
   "execution_count": 49,
   "id": "e4594aff",
   "metadata": {},
   "outputs": [
    {
     "name": "stdout",
     "output_type": "stream",
     "text": [
      "Confusion matrix: \n",
      " [[7301 1993]\n",
      " [2590 6834]]\n",
      "Classification report: \n",
      "               precision    recall  f1-score   support\n",
      "\n",
      "         0.0       0.74      0.79      0.76      9294\n",
      "         1.0       0.77      0.73      0.75      9424\n",
      "\n",
      "    accuracy                           0.76     18718\n",
      "   macro avg       0.76      0.76      0.76     18718\n",
      "weighted avg       0.76      0.76      0.75     18718\n",
      "\n"
     ]
    }
   ],
   "source": [
    "y_pred = rf_random.predict(X_test)\n",
    "print('Confusion matrix: \\n', confusion_matrix(y_test, y_pred))\n",
    "print('Classification report: \\n', classification_report(y_test, y_pred))"
   ]
  },
  {
   "cell_type": "code",
   "execution_count": 50,
   "id": "a1c4e8ed",
   "metadata": {},
   "outputs": [
    {
     "data": {
      "text/plain": [
       "<sklearn.metrics._plot.confusion_matrix.ConfusionMatrixDisplay at 0x7fb7a7c7a370>"
      ]
     },
     "execution_count": 50,
     "metadata": {},
     "output_type": "execute_result"
    },
    {
     "data": {
      "image/png": "[encoded data removed]",
      "text/plain": [
       "<Figure size 432x288 with 2 Axes>"
      ]
     },
     "metadata": {
      "needs_background": "light"
     },
     "output_type": "display_data"
    }
   ],
   "source": [
    "plot_confusion_matrix(rf_random, X_test, y_test,xticks_rotation='vertical')"
   ]
  },
  {
   "cell_type": "code",
   "execution_count": 51,
   "id": "cd612ddf",
   "metadata": {},
   "outputs": [],
   "source": [
    "rf_acc_score = accuracy_score(y_test, y_pred)\n",
    "rf_pre_score = precision_score(y_test, y_pred)\n",
    "rf_rec_score = recall_score(y_test, y_pred)\n",
    "rf_f1_score = f1_score(y_test, y_pred)"
   ]
  },
  {
   "cell_type": "markdown",
   "id": "61043193",
   "metadata": {},
   "source": [
    "<a id='section_4d'></a>\n",
    "### 4d. MultinomialNB\n"
   ]
  },
  {
   "cell_type": "code",
   "execution_count": 52,
   "id": "6e2b076c",
   "metadata": {},
   "outputs": [],
   "source": [
    "model = MultinomialNB()\n",
    "\n",
    "#Hyperparameter tuning\n",
    "parameters = {\"alpha\":[0.001,0.005,0.1,0.2,0.3,0.4,0.5,0.6,0.7,0.8,0.9,1],\n",
    "                \"fit_prior\":[True,False]}"
   ]
  },
  {
   "cell_type": "code",
   "execution_count": 53,
   "id": "86aef604",
   "metadata": {},
   "outputs": [
    {
     "name": "stdout",
     "output_type": "stream",
     "text": [
      " Results from Random Search \n",
      "\n",
      " The best estimator across ALL searched params:\n",
      " MultinomialNB(alpha=0.5, fit_prior=False)\n"
     ]
    }
   ],
   "source": [
    "mnb_random = RandomizedSearchCV(estimator = model, param_distributions = parameters, n_iter = 10, cv = 5, \n",
    "                               verbose = False, random_state=42, n_jobs = -1)\n",
    "mnb_random.fit(X_train, y_train)\n",
    "\n",
    "print(\" Results from Random Search \" )\n",
    "print(\"\\n The best estimator across ALL searched params:\\n\", mnb_random.best_estimator_)"
   ]
  },
  {
   "cell_type": "code",
   "execution_count": 54,
   "id": "058f3422",
   "metadata": {},
   "outputs": [
    {
     "name": "stdout",
     "output_type": "stream",
     "text": [
      "Confusion matrix: \n",
      " [[6370 2924]\n",
      " [4557 4867]]\n",
      "Classification report: \n",
      "               precision    recall  f1-score   support\n",
      "\n",
      "         0.0       0.58      0.69      0.63      9294\n",
      "         1.0       0.62      0.52      0.57      9424\n",
      "\n",
      "    accuracy                           0.60     18718\n",
      "   macro avg       0.60      0.60      0.60     18718\n",
      "weighted avg       0.60      0.60      0.60     18718\n",
      "\n"
     ]
    }
   ],
   "source": [
    "y_pred = mnb_random.predict(X_test)\n",
    "print('Confusion matrix: \\n', confusion_matrix(y_test, y_pred))\n",
    "print('Classification report: \\n', classification_report(y_test, y_pred))"
   ]
  },
  {
   "cell_type": "code",
   "execution_count": 55,
   "id": "a0fce883",
   "metadata": {},
   "outputs": [
    {
     "data": {
      "text/plain": [
       "<sklearn.metrics._plot.confusion_matrix.ConfusionMatrixDisplay at 0x7fb7a7790820>"
      ]
     },
     "execution_count": 55,
     "metadata": {},
     "output_type": "execute_result"
    },
    {
     "data": {
      "image/png": "[encoded data removed]",
      "text/plain": [
       "<Figure size 432x288 with 2 Axes>"
      ]
     },
     "metadata": {
      "needs_background": "light"
     },
     "output_type": "display_data"
    }
   ],
   "source": [
    "plot_confusion_matrix(mnb_random, X_test, y_test,xticks_rotation='vertical')"
   ]
  },
  {
   "cell_type": "code",
   "execution_count": 56,
   "id": "16a833f8",
   "metadata": {},
   "outputs": [],
   "source": [
    "mnb_acc_score = accuracy_score(y_test, y_pred)\n",
    "mnb_pre_score = precision_score(y_test, y_pred)\n",
    "mnb_rec_score = recall_score(y_test, y_pred)\n",
    "mnb_f1_score = f1_score(y_test, y_pred)"
   ]
  },
  {
   "cell_type": "markdown",
   "id": "b6fc4fe0",
   "metadata": {},
   "source": [
    "<a id='section_4e'></a>\n",
    "### 4e. XGBClassifier\n"
   ]
  },
  {
   "cell_type": "code",
   "execution_count": 57,
   "id": "04af24a0",
   "metadata": {},
   "outputs": [],
   "source": [
    "model = XGBClassifier()\n",
    "\n",
    "#Hyperparameter tuning\n",
    "parameters = {'n_estimators':[5,6,7,8,9,10,15,20,25,30,35,40,45,50,75,100,200],\n",
    "          'min_child_weight': [1, 5, 10],\n",
    "          'gamma': [0.1, 0.25, 0.5, 1, 1.5, 2, 5],\n",
    "          'subsample': [0.6, 0.8, 1.0],\n",
    "          'colsample_bytree': [0.6, 0.8, 1.0],\n",
    "          'class_weight':[None,'balanced'],\n",
    "          'max_depth': [1,2,3,4,5,10,15,20,25,50,75,100,125,150,200],\n",
    "          'learning_rate':[0.001,0.01,0.05,0.1,0.2,0.3]\n",
    "         }"
   ]
  },
  {
   "cell_type": "code",
   "execution_count": 58,
   "id": "7db5b569",
   "metadata": {},
   "outputs": [
    {
     "name": "stderr",
     "output_type": "stream",
     "text": [
      "/Users/kasey.larsen/opt/anaconda3/lib/python3.8/site-packages/xgboost/sklearn.py:1146: UserWarning: The use of label encoder in XGBClassifier is deprecated and will be removed in a future release. To remove this warning, do the following: 1) Pass option use_label_encoder=False when constructing XGBClassifier object; and 2) Encode your labels (y) as integers starting with 0, i.e. 0, 1, 2, ..., [num_class - 1].\n",
      "  warnings.warn(label_encoder_deprecation_msg, UserWarning)\n"
     ]
    },
    {
     "name": "stdout",
     "output_type": "stream",
     "text": [
      "[07:19:55] WARNING: /Users/travis/build/dmlc/xgboost/src/learner.cc:1095: Starting in XGBoost 1.3.0, the default evaluation metric used with the objective 'binary:logistic' was changed from 'error' to 'logloss'. Explicitly set eval_metric if you'd like to restore the old behavior.\n",
      " Results from Random Search \n",
      "\n",
      " The best estimator across ALL searched params:\n",
      " XGBClassifier(base_score=0.5, booster='gbtree', class_weight=None,\n",
      "              colsample_bylevel=1, colsample_bynode=1, colsample_bytree=0.8,\n",
      "              gamma=0.5, gpu_id=-1, importance_type='gain',\n",
      "              interaction_constraints='', learning_rate=0.1, max_delta_step=0,\n",
      "              max_depth=20, min_child_weight=1, missing=nan,\n",
      "              monotone_constraints='()', n_estimators=100, n_jobs=8,\n",
      "              num_parallel_tree=1, random_state=0, reg_alpha=0, reg_lambda=1,\n",
      "              scale_pos_weight=1, subsample=0.8, tree_method='exact',\n",
      "              validate_parameters=1, verbosity=None)\n"
     ]
    }
   ],
   "source": [
    "xgb_random = RandomizedSearchCV(estimator = model, param_distributions = parameters, n_iter = 10, cv = 5, \n",
    "                               verbose = False, random_state=42, n_jobs = -1)\n",
    "xgb_random.fit(X_train, y_train)\n",
    "\n",
    "print(\" Results from Random Search \" )\n",
    "print(\"\\n The best estimator across ALL searched params:\\n\", xgb_random.best_estimator_)"
   ]
  },
  {
   "cell_type": "code",
   "execution_count": 59,
   "id": "916445e8",
   "metadata": {},
   "outputs": [
    {
     "name": "stdout",
     "output_type": "stream",
     "text": [
      "Confusion matrix: \n",
      " [[7501 1793]\n",
      " [1381 8043]]\n",
      "Classification report: \n",
      "               precision    recall  f1-score   support\n",
      "\n",
      "         0.0       0.84      0.81      0.83      9294\n",
      "         1.0       0.82      0.85      0.84      9424\n",
      "\n",
      "    accuracy                           0.83     18718\n",
      "   macro avg       0.83      0.83      0.83     18718\n",
      "weighted avg       0.83      0.83      0.83     18718\n",
      "\n"
     ]
    }
   ],
   "source": [
    "y_pred = xgb_random.predict(X_test)\n",
    "print('Confusion matrix: \\n', confusion_matrix(y_test, y_pred))\n",
    "print('Classification report: \\n', classification_report(y_test, y_pred))"
   ]
  },
  {
   "cell_type": "code",
   "execution_count": 60,
   "id": "780a2262",
   "metadata": {},
   "outputs": [
    {
     "data": {
      "text/plain": [
       "<sklearn.metrics._plot.confusion_matrix.ConfusionMatrixDisplay at 0x7fb7a7c7adf0>"
      ]
     },
     "execution_count": 60,
     "metadata": {},
     "output_type": "execute_result"
    },
    {
     "data": {
      "image/png": "[encoded data removed]",
      "text/plain": [
       "<Figure size 432x288 with 2 Axes>"
      ]
     },
     "metadata": {
      "needs_background": "light"
     },
     "output_type": "display_data"
    }
   ],
   "source": [
    "plot_confusion_matrix(xgb_random, X_test, y_test,xticks_rotation='vertical')"
   ]
  },
  {
   "cell_type": "code",
   "execution_count": 61,
   "id": "0be40cc4",
   "metadata": {},
   "outputs": [],
   "source": [
    "xgb_acc_score = accuracy_score(y_test, y_pred)\n",
    "xgb_pre_score = precision_score(y_test, y_pred)\n",
    "xgb_rec_score = recall_score(y_test, y_pred)\n",
    "xgb_f1_score = f1_score(y_test, y_pred)"
   ]
  },
  {
   "cell_type": "markdown",
   "id": "8a0a031c",
   "metadata": {},
   "source": [
    "<a id='section_5'></a>\n",
    "### 5. Model Selection\n"
   ]
  },
  {
   "cell_type": "code",
   "execution_count": 62,
   "id": "8458dabd",
   "metadata": {},
   "outputs": [],
   "source": [
    "# Creating a models table\n",
    "model_selection=pd.DataFrame({'Model':['Logistic Regession', 'Decision Tree Classifier', 'Random Forest Classifier',\n",
    "                                        'MultinomialNB', 'XGBClassifier'], \n",
    "                             'Accuracy Score':[lg_acc_score, dt_acc_score, rf_acc_score, mnb_acc_score, xgb_acc_score],\n",
    "                             'Precision Score':[lg_pre_score, dt_pre_score, rf_pre_score, mnb_pre_score,xgb_pre_score],\n",
    "                             'Recall Score':[lg_rec_score, dt_rec_score, rf_rec_score, mnb_rec_score, xgb_rec_score],\n",
    "                             'F1 Score':[lg_f1_score, dt_f1_score, rf_f1_score, mnb_f1_score, xgb_f1_score]})"
   ]
  },
  {
   "cell_type": "code",
   "execution_count": 63,
   "id": "4d967b42",
   "metadata": {},
   "outputs": [
    {
     "data": {
      "text/html": [
       "<div>\n",
       "<style scoped>\n",
       "    .dataframe tbody tr th:only-of-type {\n",
       "        vertical-align: middle;\n",
       "    }\n",
       "\n",
       "    .dataframe tbody tr th {\n",
       "        vertical-align: top;\n",
       "    }\n",
       "\n",
       "    .dataframe thead th {\n",
       "        text-align: right;\n",
       "    }\n",
       "</style>\n",
       "<table border=\"1\" class=\"dataframe\">\n",
       "  <thead>\n",
       "    <tr style=\"text-align: right;\">\n",
       "      <th></th>\n",
       "      <th>Model</th>\n",
       "      <th>Accuracy Score</th>\n",
       "      <th>Precision Score</th>\n",
       "      <th>Recall Score</th>\n",
       "      <th>F1 Score</th>\n",
       "    </tr>\n",
       "  </thead>\n",
       "  <tbody>\n",
       "    <tr>\n",
       "      <th>0</th>\n",
       "      <td>Logistic Regession</td>\n",
       "      <td>0.649695</td>\n",
       "      <td>0.654755</td>\n",
       "      <td>0.643570</td>\n",
       "      <td>0.649114</td>\n",
       "    </tr>\n",
       "    <tr>\n",
       "      <th>1</th>\n",
       "      <td>Decision Tree Classifier</td>\n",
       "      <td>0.746287</td>\n",
       "      <td>0.770575</td>\n",
       "      <td>0.706388</td>\n",
       "      <td>0.737087</td>\n",
       "    </tr>\n",
       "    <tr>\n",
       "      <th>2</th>\n",
       "      <td>Random Forest Classifier</td>\n",
       "      <td>0.755155</td>\n",
       "      <td>0.774215</td>\n",
       "      <td>0.725170</td>\n",
       "      <td>0.748890</td>\n",
       "    </tr>\n",
       "    <tr>\n",
       "      <th>3</th>\n",
       "      <td>MultinomialNB</td>\n",
       "      <td>0.600331</td>\n",
       "      <td>0.624695</td>\n",
       "      <td>0.516447</td>\n",
       "      <td>0.565437</td>\n",
       "    </tr>\n",
       "    <tr>\n",
       "      <th>4</th>\n",
       "      <td>XGBClassifier</td>\n",
       "      <td>0.830431</td>\n",
       "      <td>0.817710</td>\n",
       "      <td>0.853459</td>\n",
       "      <td>0.835202</td>\n",
       "    </tr>\n",
       "  </tbody>\n",
       "</table>\n",
       "</div>"
      ],
      "text/plain": [
       "                      Model  Accuracy Score  Precision Score  Recall Score  \\\n",
       "0        Logistic Regession        0.649695         0.654755      0.643570   \n",
       "1  Decision Tree Classifier        0.746287         0.770575      0.706388   \n",
       "2  Random Forest Classifier        0.755155         0.774215      0.725170   \n",
       "3             MultinomialNB        0.600331         0.624695      0.516447   \n",
       "4             XGBClassifier        0.830431         0.817710      0.853459   \n",
       "\n",
       "   F1 Score  \n",
       "0  0.649114  \n",
       "1  0.737087  \n",
       "2  0.748890  \n",
       "3  0.565437  \n",
       "4  0.835202  "
      ]
     },
     "execution_count": 63,
     "metadata": {},
     "output_type": "execute_result"
    }
   ],
   "source": [
    "model_selection"
   ]
  },
  {
   "cell_type": "markdown",
   "id": "9d9c84ca",
   "metadata": {},
   "source": [
    "<div class=\"alert alert-block alert-success\">\n",
    "While Decision trees and Random Forest preformed pretty well, the clear best model is the XGBClassifier. It outscored all other models in all four metrics, Accuracy, Precision, Recall, and F1 scores. It was also the only model to score above a 0.8 in any of the metrics, and did it in all four. \n",
    "</div>"
   ]
  },
  {
   "cell_type": "code",
   "execution_count": 64,
   "id": "61da023e",
   "metadata": {},
   "outputs": [
    {
     "data": {
      "image/png": "[encoded data removed]",
      "text/plain": [
       "<Figure size 432x288 with 1 Axes>"
      ]
     },
     "metadata": {
      "needs_background": "light"
     },
     "output_type": "display_data"
    }
   ],
   "source": [
    "feat_importances = pd.Series(xgb_random.best_estimator_.feature_importances_, index = cols)\n",
    "feat_importances.nlargest(15).plot(kind='barh')\n",
    "plt.title('Feature Importance')\n",
    "plt.show()"
   ]
  },
  {
   "cell_type": "markdown",
   "id": "a8cb188d",
   "metadata": {},
   "source": [
    "<a id='section_6'></a>\n",
    "### 6. Model Insight"
   ]
  },
  {
   "cell_type": "markdown",
   "id": "bcb78007",
   "metadata": {},
   "source": [
    "The XGBClassifier model produced the following as the top 5 features:\n",
    "1. phone\n",
    "2. city\n",
    "3. avg_rating_by_driver\n",
    "4. ultimate_black_user\n",
    "5. surge_pct\n",
    "\n",
    "With this knowledge, Ultimate can make a few take aways:\n",
    "1. Ultimate should market to iphone users more heavily. They are more likely remain active customers in the 6 month period.\n",
    "2. King's Landing has more retention than any other city. More marketing efforts should be applied there since they are more likely to remain active customers.\n",
    "4. If a person signs up for Ultimate Black, they are more likely to remain an active member, so marketing should promote Ultimate Black.\n",
    "5. Surge percentage average is higher for active users, so customers who remain active do not seem to mind surge prices. Non-active customers may not be willing to pay the surge cost, and so become inactive. A promotion could be applied to lower or eliminate surge pricing for a period of sign-up. Then the customers might try the service more, really enjoy it and continue to use it once their promotional time ends. "
   ]
  },
  {
   "cell_type": "code",
   "execution_count": null,
   "id": "5c76f38f",
   "metadata": {},
   "outputs": [],
   "source": []
  }
 ],
 "metadata": {
  "kernelspec": {
   "display_name": "Python 3",
   "language": "python",
   "name": "python3"
  },
  "language_info": {
   "codemirror_mode": {
    "name": "ipython",
    "version": 3
   },
   "file_extension": ".py",
   "mimetype": "text/x-python",
   "name": "python",
   "nbconvert_exporter": "python",
   "pygments_lexer": "ipython3",
   "version": "3.8.8"
  }
 },
 "nbformat": 4,
 "nbformat_minor": 5
}
