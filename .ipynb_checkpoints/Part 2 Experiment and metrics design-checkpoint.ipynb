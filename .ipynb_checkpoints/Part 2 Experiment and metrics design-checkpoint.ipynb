{
 "cells": [
  {
   "cell_type": "markdown",
   "id": "1e0b545e",
   "metadata": {},
   "source": [
    "# Part 2"
   ]
  },
  {
   "cell_type": "markdown",
   "id": "b1752c46",
   "metadata": {},
   "source": [
    "## Experiment and metrics design"
   ]
  },
  {
   "cell_type": "markdown",
   "id": "8782ec41",
   "metadata": {},
   "source": [
    "The neighboring cities of Gotham and Metropolis have complementary circadian rhythms: on weekdays, Ultimate Gotham is most active at night, and Ultimate Metropolis is most active during the day. On weekends, there is reasonable activity in both cities.\n",
    "\n",
    "However, a toll bridge, with a two way toll, between the two cities causes driver partners to tend to be exclusive to each city. The Ultimate managers of city operations for the two cities have proposed an experiment to encourage driver partners to be available in both cities, by reimbursing all toll costs."
   ]
  },
  {
   "cell_type": "markdown",
   "id": "12cbbd38",
   "metadata": {},
   "source": [
    "### 1. What would you choose as the key measure of success of this experiment in encouraging driver partners to serve both cities, and why would you choose this metric?"
   ]
  },
  {
   "cell_type": "markdown",
   "id": "04867c07",
   "metadata": {},
   "source": [
    "The metric that I will measure will be the drivers location on the weekends. Since the cities have complementary circadian rhythms during the weekdays, it would be reasonable for drivers to go from one city to the other during the week. However on the weekend, both cities are active so it would be more significant to concentrate our focus there. We can use the drivers apps to track their location on the weekend to see if they go to a different city, and if so, how many times do they switch cities. \n",
    "\n",
    "If there is a significant increase in the number of Ultimate Drivers changing cities on weekends after the program has begun, the program can be deemed successful.  "
   ]
  },
  {
   "cell_type": "markdown",
   "id": "e058e7bf",
   "metadata": {},
   "source": [
    "### 2. Describe a practical experiment you would design to compare the effectiveness of the proposed change in relation to the key measure of success. Please provide details on:"
   ]
  },
  {
   "cell_type": "markdown",
   "id": "d55fd771",
   "metadata": {},
   "source": [
    "#### a. How you will implement the experiment?"
   ]
  },
  {
   "cell_type": "markdown",
   "id": "641b6837",
   "metadata": {},
   "source": [
    "First, we would need to collect the initial data. We would want to have information collected for at least 100 drivers, preferably all of the drivers in the cities, in order to have a large enough sample size to conduct our test. We would track the drivers over a few weekends, but it is important that there are not significant events in either city during these weekends. Using the Ultimate app, we can track the drivers location and the number of times that they change cities in that time period. \n",
    "\n",
    "Next, we will implement the program. The program should be in place for a period of time before the next data is collected. This is because it is likely more drivers will use it at first just to try it out. We want to know the drivers that continue to use the program after it has been in effect for a while. So after that period of time has ended, we will repeat the data collection from before. We will track the location of the drivers over multiple weekends, with no major events, and track the number of times they change cities. "
   ]
  },
  {
   "cell_type": "markdown",
   "id": "2f774a35",
   "metadata": {},
   "source": [
    "#### b. What statistical test(s) you will conduct to verify the significance of the observation?"
   ]
  },
  {
   "cell_type": "markdown",
   "id": "4102fc81",
   "metadata": {},
   "source": [
    "I will conduct a one-sided z-score test to decide if there was a significant increase in the number of drivers changing cities during the weekend. The null hypothesis will be that there is zero change in the number of drivers changing cities on the weekend. The alternative hypothesis will be that there is a significant change in the number of drivers changing cities on the weekend. \n",
    "\n",
    "I will then calculuate the z-score. Using a 95% confidence interval, I will determine the p-value. "
   ]
  },
  {
   "cell_type": "markdown",
   "id": "20e0d9d7",
   "metadata": {},
   "source": [
    "#### c. How you would interpret the results and provide recommendations to the city operations team along with any caveats?"
   ]
  },
  {
   "cell_type": "markdown",
   "id": "48b330cf",
   "metadata": {},
   "source": [
    "If the p-value falls below 0.05, we can reject the null hypothesis and deem the program to be a success.\n",
    "\n",
    "Caveats:\n",
    "\n",
    "This sample size needs to be large enough to use a z-score test. The more data we can collect the better the test will be. \n",
    "\n",
    "We need to make sure there are no events in either city as we are collecting data because this could skew the numbers to either show or not show significance. \n",
    "\n",
    "We used a 95% confidence interval, so there is still a 5% chance that our conclusion was incorrect."
   ]
  },
  {
   "cell_type": "code",
   "execution_count": null,
   "id": "e722301b",
   "metadata": {},
   "outputs": [],
   "source": []
  }
 ],
 "metadata": {
  "kernelspec": {
   "display_name": "Python 3",
   "language": "python",
   "name": "python3"
  },
  "language_info": {
   "codemirror_mode": {
    "name": "ipython",
    "version": 3
   },
   "file_extension": ".py",
   "mimetype": "text/x-python",
   "name": "python",
   "nbconvert_exporter": "python",
   "pygments_lexer": "ipython3",
   "version": "3.8.8"
  }
 },
 "nbformat": 4,
 "nbformat_minor": 5
}
